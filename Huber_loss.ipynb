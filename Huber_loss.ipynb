{
  "nbformat": 4,
  "nbformat_minor": 0,
  "metadata": {
    "colab": {
      "name": "Huber_loss.ipynb",
      "provenance": []
    },
    "kernelspec": {
      "name": "python3",
      "display_name": "Python 3"
    }
  },
  "cells": [
    {
      "cell_type": "code",
      "metadata": {
        "id": "XFjliC-WLIMT"
      },
      "source": [
        "try:\r\n",
        "    # %tensorflow_version only exists in colab\r\n",
        "    %tensorflow_version 2.x\r\n",
        "except Exception:\r\n",
        "    pass"
      ],
      "execution_count": 1,
      "outputs": []
    },
    {
      "cell_type": "code",
      "metadata": {
        "id": "uM89TIYjLoNm"
      },
      "source": [
        "import tensorflow as tf\r\n",
        "from tensorflow import keras\r\n",
        "import numpy as np\r\n",
        "\r\n",
        "\r\n",
        "xs=np.array([-1, 0 , 1 , 2, 3, 4], dtype=float)\r\n",
        "ys=np.array([-3, -1 , 1, 3, 5, 7], dtype=float)"
      ],
      "execution_count": 2,
      "outputs": []
    },
    {
      "cell_type": "code",
      "metadata": {
        "colab": {
          "base_uri": "https://localhost:8080/"
        },
        "id": "KkO7JFx-MWrN",
        "outputId": "734b2d53-f805-4792-a5b2-12296ca2cd2a"
      },
      "source": [
        "model=tf.keras.Sequential([keras.layers.Dense(units=1,input_shape=[1])])\r\n",
        "model.compile(optimizer='sgd',loss='mean_squared_error')\r\n",
        "model.fit(xs,ys,epochs=500,verbose=0)\r\n",
        "print(model.predict([10]))"
      ],
      "execution_count": 3,
      "outputs": [
        {
          "output_type": "stream",
          "text": [
            "[[18.981815]]\n"
          ],
          "name": "stdout"
        }
      ]
    },
    {
      "cell_type": "code",
      "metadata": {
        "id": "EB9gOEdaNGFm"
      },
      "source": [
        "def my_huber_loss_with_threshold(threshold):\r\n",
        "    def my_huber_loss(y_true,y_pred):\r\n",
        "        error=y_true-y_pred\r\n",
        "        is_small_error = tf.abs(error) <= threshold\r\n",
        "        small_error_loss = tf.square(error)/2\r\n",
        "        big_error_loss = threshold*(tf.abs(error)-(0.5*threshold))\r\n",
        "        return tf.where(is_small_error,small_error_loss, big_error_loss)\r\n",
        "    return my_huber_loss"
      ],
      "execution_count": 4,
      "outputs": []
    },
    {
      "cell_type": "code",
      "metadata": {
        "colab": {
          "base_uri": "https://localhost:8080/"
        },
        "id": "GKCz12ADOQW2",
        "outputId": "74b833e0-730d-4566-e95b-0f1a35619965"
      },
      "source": [
        "model=tf.keras.Sequential([keras.layers.Dense(units=1,input_shape=[1])])\r\n",
        "model.compile(optimizer='sgd',loss=my_huber_loss_with_threshold(threshold=1.2))\r\n",
        "model.fit(xs,ys,epochs=500,verbose=0)\r\n",
        "print(model.predict([10]))"
      ],
      "execution_count": 5,
      "outputs": [
        {
          "output_type": "stream",
          "text": [
            "[[18.83372]]\n"
          ],
          "name": "stdout"
        }
      ]
    },
    {
      "cell_type": "code",
      "metadata": {
        "id": "L_TB2QGfUSFe"
      },
      "source": [
        "from tensorflow.keras.losses import Loss\r\n",
        "class MyHuberLoss(Loss):\r\n",
        "    threshold=1\r\n",
        "    def __init__(self, threshold):\r\n",
        "        super().__init__()\r\n",
        "        self.threshold = threshold\r\n",
        "\r\n",
        "    def call(self,y_true, y_pred):\r\n",
        "        error=y_true-y_pred\r\n",
        "        is_small_error = tf.abs(error) <= self.threshold\r\n",
        "        small_error_loss = tf.square(error)/2\r\n",
        "        big_error_loss = self.threshold*(tf.abs(error)-(0.5*self.threshold))\r\n",
        "        return tf.where(is_small_error,small_error_loss, big_error_loss)"
      ],
      "execution_count": 6,
      "outputs": []
    },
    {
      "cell_type": "code",
      "metadata": {
        "colab": {
          "base_uri": "https://localhost:8080/"
        },
        "id": "WdTcj905VV2v",
        "outputId": "ad125678-0e15-4ab1-be99-6189f55ac04a"
      },
      "source": [
        "model=tf.keras.Sequential([keras.layers.Dense(units=1,input_shape=[1])])\r\n",
        "model.compile(optimizer='sgd',loss=MyHuberLoss(threshold=1.2))\r\n",
        "model.fit(xs,ys,epochs=500,verbose=0)\r\n",
        "print(model.predict([10]))"
      ],
      "execution_count": 7,
      "outputs": [
        {
          "output_type": "stream",
          "text": [
            "[[18.82495]]\n"
          ],
          "name": "stdout"
        }
      ]
    }
  ]
}
