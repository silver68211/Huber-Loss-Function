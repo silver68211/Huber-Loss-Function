{
  "nbformat": 4,
  "nbformat_minor": 0,
  "metadata": {
    "colab": {
      "name": "Huber_loss.ipynb",
      "provenance": []
    },
    "kernelspec": {
      "name": "python3",
      "display_name": "Python 3"
    }
  },
  "cells": [
    {
      "cell_type": "code",
      "metadata": {
        "id": "XFjliC-WLIMT"
      },
      "source": [
        "try:\r\n",
        "    # %tensorflow_version only exists in colab\r\n",
        "    %tensorflow_version 2.x\r\n",
        "except Exception:\r\n",
        "    pass"
      ],
      "execution_count": 1,
      "outputs": []
    },
    {
      "cell_type": "code",
      "metadata": {
        "id": "uM89TIYjLoNm"
      },
      "source": [
        "import tensorflow as tf\r\n",
        "from tensorflow import keras\r\n",
        "import numpy as np\r\n",
        "\r\n",
        "\r\n",
        "xs=np.array([-1, 0 , 1 , 2, 3, 4], dtype=float)\r\n",
        "ys=np.array([-3, -1 , 1, 3, 5, 7], dtype=float)"
      ],
      "execution_count": 2,
      "outputs": []
    },
    {
      "cell_type": "code",
      "metadata": {
        "colab": {
          "base_uri": "https://localhost:8080/"
        },
        "id": "KkO7JFx-MWrN",
        "outputId": "211fc44f-b5bd-4ff7-a03f-c9412cecc4f3"
      },
      "source": [
        "model=tf.keras.Sequential([keras.layers.Dense(units=1,input_shape=[1])])\r\n",
        "model.compile(optimizer='sgd',loss='mean_squared_error')\r\n",
        "model.fit(xs,ys,epochs=500,verbose=0)\r\n",
        "print(model.predict([10]))"
      ],
      "execution_count": 4,
      "outputs": [
        {
          "output_type": "stream",
          "text": [
            "[[18.978586]]\n"
          ],
          "name": "stdout"
        }
      ]
    },
    {
      "cell_type": "code",
      "metadata": {
        "id": "EB9gOEdaNGFm"
      },
      "source": [
        "def my_huber_loss(y_true,y_pred):\r\n",
        "    threshold=1\r\n",
        "    error=y_true-y_pred\r\n",
        "    is_small_error = tf.abs(error) <= threshold\r\n",
        "    small_error_loss = tf.square(error)/2\r\n",
        "    big_error_loss = threshold*(tf.abs(error)-(0.5*threshold))\r\n",
        "    return tf.where(is_small_error,small_error_loss, big_error_loss)"
      ],
      "execution_count": 5,
      "outputs": []
    },
    {
      "cell_type": "code",
      "metadata": {
        "colab": {
          "base_uri": "https://localhost:8080/"
        },
        "id": "GKCz12ADOQW2",
        "outputId": "3bb221de-86c7-4401-bfd4-70b01740af3f"
      },
      "source": [
        "model=tf.keras.Sequential([keras.layers.Dense(units=1,input_shape=[1])])\r\n",
        "model.compile(optimizer='sgd',loss=my_huber_loss)\r\n",
        "model.fit(xs,ys,epochs=500,verbose=0)\r\n",
        "print(model.predict([10]))"
      ],
      "execution_count": 7,
      "outputs": [
        {
          "output_type": "stream",
          "text": [
            "[[18.620333]]\n"
          ],
          "name": "stdout"
        }
      ]
    }
  ]
}